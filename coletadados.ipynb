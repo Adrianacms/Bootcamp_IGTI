{
  "nbformat": 4,
  "nbformat_minor": 0,
  "metadata": {
    "colab": {
      "name": "Cópia de coletadados.ipynb",
      "provenance": [],
      "collapsed_sections": []
    },
    "kernelspec": {
      "name": "python3",
      "display_name": "Python 3"
    },
    "language_info": {
      "name": "python"
    }
  },
  "cells": [
    {
      "cell_type": "markdown",
      "metadata": {
        "id": "jmQp5PUzXOr2"
      },
      "source": [
        "# **Importação Bibliotecas**"
      ]
    },
    {
      "cell_type": "code",
      "metadata": {
        "id": "xaAqh2AzXD62"
      },
      "source": [
        "import pandas as pd\n",
        "import os"
      ],
      "execution_count": null,
      "outputs": []
    },
    {
      "cell_type": "markdown",
      "metadata": {
        "id": "4LgnT1jVXM6p"
      },
      "source": [
        "# **Importando Dados do Arquivo**"
      ]
    },
    {
      "cell_type": "code",
      "metadata": {
        "colab": {
          "base_uri": "https://localhost:8080/",
          "height": 35
        },
        "id": "y-m4R5qoXpjr",
        "outputId": "519b81d7-3682-4848-fb69-0d259eeac0b7"
      },
      "source": [
        "\n",
        "Dados = '/content/vaccinations alt.csv'\n",
        "Dados"
      ],
      "execution_count": null,
      "outputs": [
        {
          "output_type": "execute_result",
          "data": {
            "application/vnd.google.colaboratory.intrinsic+json": {
              "type": "string"
            },
            "text/plain": [
              "'/content/vaccinations alt.csv'"
            ]
          },
          "metadata": {
            "tags": []
          },
          "execution_count": 135
        }
      ]
    },
    {
      "cell_type": "markdown",
      "metadata": {
        "id": "C73Cz--EZAx0"
      },
      "source": [
        "# **Criando Data Frame**"
      ]
    },
    {
      "cell_type": "code",
      "metadata": {
        "colab": {
          "base_uri": "https://localhost:8080/",
          "height": 419
        },
        "id": "P4sQ5DRgZMBe",
        "outputId": "40f0eb19-6ffe-4b98-f339-53057b8a336e"
      },
      "source": [
        "Dataframe = pd.read_csv (Dados, sep=',')\n",
        "Dataframe.head (200)"
      ],
      "execution_count": null,
      "outputs": [
        {
          "output_type": "execute_result",
          "data": {
            "text/html": [
              "<div>\n",
              "<style scoped>\n",
              "    .dataframe tbody tr th:only-of-type {\n",
              "        vertical-align: middle;\n",
              "    }\n",
              "\n",
              "    .dataframe tbody tr th {\n",
              "        vertical-align: top;\n",
              "    }\n",
              "\n",
              "    .dataframe thead th {\n",
              "        text-align: right;\n",
              "    }\n",
              "</style>\n",
              "<table border=\"1\" class=\"dataframe\">\n",
              "  <thead>\n",
              "    <tr style=\"text-align: right;\">\n",
              "      <th></th>\n",
              "      <th>location</th>\n",
              "      <th>iso_code</th>\n",
              "      <th>date</th>\n",
              "      <th>total_vaccinations</th>\n",
              "      <th>people_vaccinated</th>\n",
              "      <th>daily_vaccinations</th>\n",
              "    </tr>\n",
              "  </thead>\n",
              "  <tbody>\n",
              "    <tr>\n",
              "      <th>0</th>\n",
              "      <td>Albania</td>\n",
              "      <td>ALB</td>\n",
              "      <td>10/01/2021</td>\n",
              "      <td>0.0</td>\n",
              "      <td>0.0</td>\n",
              "      <td>NaN</td>\n",
              "    </tr>\n",
              "    <tr>\n",
              "      <th>1</th>\n",
              "      <td>Albania</td>\n",
              "      <td>ALB</td>\n",
              "      <td>11/01/2021</td>\n",
              "      <td>NaN</td>\n",
              "      <td>NaN</td>\n",
              "      <td>64.0</td>\n",
              "    </tr>\n",
              "    <tr>\n",
              "      <th>2</th>\n",
              "      <td>Albania</td>\n",
              "      <td>ALB</td>\n",
              "      <td>12/01/2021</td>\n",
              "      <td>128.0</td>\n",
              "      <td>128.0</td>\n",
              "      <td>64.0</td>\n",
              "    </tr>\n",
              "    <tr>\n",
              "      <th>3</th>\n",
              "      <td>Albania</td>\n",
              "      <td>ALB</td>\n",
              "      <td>13/01/2021</td>\n",
              "      <td>188.0</td>\n",
              "      <td>188.0</td>\n",
              "      <td>63.0</td>\n",
              "    </tr>\n",
              "    <tr>\n",
              "      <th>4</th>\n",
              "      <td>Albania</td>\n",
              "      <td>ALB</td>\n",
              "      <td>14/01/2021</td>\n",
              "      <td>266.0</td>\n",
              "      <td>266.0</td>\n",
              "      <td>66.0</td>\n",
              "    </tr>\n",
              "    <tr>\n",
              "      <th>...</th>\n",
              "      <td>...</td>\n",
              "      <td>...</td>\n",
              "      <td>...</td>\n",
              "      <td>...</td>\n",
              "      <td>...</td>\n",
              "      <td>...</td>\n",
              "    </tr>\n",
              "    <tr>\n",
              "      <th>195</th>\n",
              "      <td>Austria</td>\n",
              "      <td>AUT</td>\n",
              "      <td>18/01/2021</td>\n",
              "      <td>88973.0</td>\n",
              "      <td>60708.0</td>\n",
              "      <td>9673.0</td>\n",
              "    </tr>\n",
              "    <tr>\n",
              "      <th>196</th>\n",
              "      <td>Austria</td>\n",
              "      <td>AUT</td>\n",
              "      <td>19/01/2021</td>\n",
              "      <td>97389.0</td>\n",
              "      <td>70474.0</td>\n",
              "      <td>10876.0</td>\n",
              "    </tr>\n",
              "    <tr>\n",
              "      <th>197</th>\n",
              "      <td>Austria</td>\n",
              "      <td>AUT</td>\n",
              "      <td>20/01/2021</td>\n",
              "      <td>127354.0</td>\n",
              "      <td>86888.0</td>\n",
              "      <td>15156.0</td>\n",
              "    </tr>\n",
              "    <tr>\n",
              "      <th>198</th>\n",
              "      <td>Austria</td>\n",
              "      <td>AUT</td>\n",
              "      <td>21/01/2021</td>\n",
              "      <td>152843.0</td>\n",
              "      <td>105038.0</td>\n",
              "      <td>15108.0</td>\n",
              "    </tr>\n",
              "    <tr>\n",
              "      <th>199</th>\n",
              "      <td>Austria</td>\n",
              "      <td>AUT</td>\n",
              "      <td>22/01/2021</td>\n",
              "      <td>163692.0</td>\n",
              "      <td>121216.0</td>\n",
              "      <td>13746.0</td>\n",
              "    </tr>\n",
              "  </tbody>\n",
              "</table>\n",
              "<p>200 rows × 6 columns</p>\n",
              "</div>"
            ],
            "text/plain": [
              "    location iso_code  ... people_vaccinated  daily_vaccinations\n",
              "0    Albania      ALB  ...               0.0                 NaN\n",
              "1    Albania      ALB  ...               NaN                64.0\n",
              "2    Albania      ALB  ...             128.0                64.0\n",
              "3    Albania      ALB  ...             188.0                63.0\n",
              "4    Albania      ALB  ...             266.0                66.0\n",
              "..       ...      ...  ...               ...                 ...\n",
              "195  Austria      AUT  ...           60708.0              9673.0\n",
              "196  Austria      AUT  ...           70474.0             10876.0\n",
              "197  Austria      AUT  ...           86888.0             15156.0\n",
              "198  Austria      AUT  ...          105038.0             15108.0\n",
              "199  Austria      AUT  ...          121216.0             13746.0\n",
              "\n",
              "[200 rows x 6 columns]"
            ]
          },
          "metadata": {
            "tags": []
          },
          "execution_count": 155
        }
      ]
    },
    {
      "cell_type": "markdown",
      "metadata": {
        "id": "qpBqxIz6FjdM"
      },
      "source": [
        "# **Análise do Dataset**"
      ]
    },
    {
      "cell_type": "code",
      "metadata": {
        "colab": {
          "base_uri": "https://localhost:8080/",
          "height": 204
        },
        "id": "ke0NhcACFxRY",
        "outputId": "d40e167a-25ae-40d7-ebf0-fffa556ac0cb"
      },
      "source": [
        "Dataframe.query('location == \"Brazil\"').sort_values('date' , ascending=False)[:5]\n",
        "# Mostra N valores filtrando pelo Brasil"
      ],
      "execution_count": null,
      "outputs": [
        {
          "output_type": "execute_result",
          "data": {
            "text/html": [
              "<div>\n",
              "<style scoped>\n",
              "    .dataframe tbody tr th:only-of-type {\n",
              "        vertical-align: middle;\n",
              "    }\n",
              "\n",
              "    .dataframe tbody tr th {\n",
              "        vertical-align: top;\n",
              "    }\n",
              "\n",
              "    .dataframe thead th {\n",
              "        text-align: right;\n",
              "    }\n",
              "</style>\n",
              "<table border=\"1\" class=\"dataframe\">\n",
              "  <thead>\n",
              "    <tr style=\"text-align: right;\">\n",
              "      <th></th>\n",
              "      <th>location</th>\n",
              "      <th>iso_code</th>\n",
              "      <th>date</th>\n",
              "      <th>total_vaccinations</th>\n",
              "      <th>people_vaccinated</th>\n",
              "      <th>daily_vaccinations</th>\n",
              "    </tr>\n",
              "  </thead>\n",
              "  <tbody>\n",
              "    <tr>\n",
              "      <th>560</th>\n",
              "      <td>Brazil</td>\n",
              "      <td>BRA</td>\n",
              "      <td>31/01/2021</td>\n",
              "      <td>2074059.0</td>\n",
              "      <td>2046523.0</td>\n",
              "      <td>209905.0</td>\n",
              "    </tr>\n",
              "    <tr>\n",
              "      <th>559</th>\n",
              "      <td>Brazil</td>\n",
              "      <td>BRA</td>\n",
              "      <td>30/01/2021</td>\n",
              "      <td>2003211.0</td>\n",
              "      <td>1923813.0</td>\n",
              "      <td>209348.0</td>\n",
              "    </tr>\n",
              "    <tr>\n",
              "      <th>558</th>\n",
              "      <td>Brazil</td>\n",
              "      <td>BRA</td>\n",
              "      <td>29/01/2021</td>\n",
              "      <td>1668032.0</td>\n",
              "      <td>1656851.0</td>\n",
              "      <td>203165.0</td>\n",
              "    </tr>\n",
              "    <tr>\n",
              "      <th>588</th>\n",
              "      <td>Brazil</td>\n",
              "      <td>BRA</td>\n",
              "      <td>28/02/2021</td>\n",
              "      <td>8433568.0</td>\n",
              "      <td>6518628.0</td>\n",
              "      <td>211824.0</td>\n",
              "    </tr>\n",
              "    <tr>\n",
              "      <th>557</th>\n",
              "      <td>Brazil</td>\n",
              "      <td>BRA</td>\n",
              "      <td>28/01/2021</td>\n",
              "      <td>1450900.0</td>\n",
              "      <td>1450900.0</td>\n",
              "      <td>187769.0</td>\n",
              "    </tr>\n",
              "  </tbody>\n",
              "</table>\n",
              "</div>"
            ],
            "text/plain": [
              "    location iso_code  ... people_vaccinated  daily_vaccinations\n",
              "560   Brazil      BRA  ...         2046523.0            209905.0\n",
              "559   Brazil      BRA  ...         1923813.0            209348.0\n",
              "558   Brazil      BRA  ...         1656851.0            203165.0\n",
              "588   Brazil      BRA  ...         6518628.0            211824.0\n",
              "557   Brazil      BRA  ...         1450900.0            187769.0\n",
              "\n",
              "[5 rows x 6 columns]"
            ]
          },
          "metadata": {
            "tags": []
          },
          "execution_count": 137
        }
      ]
    },
    {
      "cell_type": "code",
      "metadata": {
        "colab": {
          "base_uri": "https://localhost:8080/"
        },
        "id": "3J_JCAlNHDnc",
        "outputId": "b82a609e-eba4-48a3-963a-b3669dac5824"
      },
      "source": [
        "Dataframe['location'].nunique() #Verifica numero de paises na base"
      ],
      "execution_count": null,
      "outputs": [
        {
          "output_type": "execute_result",
          "data": {
            "text/plain": [
              "116"
            ]
          },
          "metadata": {
            "tags": []
          },
          "execution_count": 138
        }
      ]
    },
    {
      "cell_type": "markdown",
      "metadata": {
        "id": "6TqzC5RHH-SN"
      },
      "source": [
        "# **Identificando pais com maior numero de imunizados**"
      ]
    },
    {
      "cell_type": "code",
      "metadata": {
        "colab": {
          "base_uri": "https://localhost:8080/",
          "height": 35
        },
        "id": "SSlRKiQvIGHq",
        "outputId": "cdd45751-7f85-430e-cd76-46842b273515"
      },
      "source": [
        "Ultima_Data = Dataframe['date'].max()\n",
        "Ultima_Data\n",
        "#Identifica ultima data de coleta"
      ],
      "execution_count": null,
      "outputs": [
        {
          "output_type": "execute_result",
          "data": {
            "application/vnd.google.colaboratory.intrinsic+json": {
              "type": "string"
            },
            "text/plain": [
              "'31/12/2020'"
            ]
          },
          "metadata": {
            "tags": []
          },
          "execution_count": 139
        }
      ]
    },
    {
      "cell_type": "code",
      "metadata": {
        "colab": {
          "base_uri": "https://localhost:8080/",
          "height": 1000
        },
        "id": "nmM6G8VnIrX1",
        "outputId": "06f3f499-549b-4791-f2bd-7cde0b3d2021"
      },
      "source": [
        "Ultima_Data = Dataframe[Dataframe.date == Ultima_Data]\n",
        "Ultima_Data\n",
        "#Filtrando ultima data"
      ],
      "execution_count": null,
      "outputs": [
        {
          "output_type": "execute_result",
          "data": {
            "text/html": [
              "<div>\n",
              "<style scoped>\n",
              "    .dataframe tbody tr th:only-of-type {\n",
              "        vertical-align: middle;\n",
              "    }\n",
              "\n",
              "    .dataframe tbody tr th {\n",
              "        vertical-align: top;\n",
              "    }\n",
              "\n",
              "    .dataframe thead th {\n",
              "        text-align: right;\n",
              "    }\n",
              "</style>\n",
              "<table border=\"1\" class=\"dataframe\">\n",
              "  <thead>\n",
              "    <tr style=\"text-align: right;\">\n",
              "      <th></th>\n",
              "      <th>location</th>\n",
              "      <th>iso_code</th>\n",
              "      <th>date</th>\n",
              "      <th>total_vaccinations</th>\n",
              "      <th>people_vaccinated</th>\n",
              "      <th>daily_vaccinations</th>\n",
              "    </tr>\n",
              "  </thead>\n",
              "  <tbody>\n",
              "    <tr>\n",
              "      <th>113</th>\n",
              "      <td>Argentina</td>\n",
              "      <td>ARG</td>\n",
              "      <td>31/12/2020</td>\n",
              "      <td>32013.0</td>\n",
              "      <td>NaN</td>\n",
              "      <td>15656.0</td>\n",
              "    </tr>\n",
              "    <tr>\n",
              "      <th>265</th>\n",
              "      <td>Bahrain</td>\n",
              "      <td>BHR</td>\n",
              "      <td>31/12/2020</td>\n",
              "      <td>58643.0</td>\n",
              "      <td>58643.0</td>\n",
              "      <td>1225.0</td>\n",
              "    </tr>\n",
              "    <tr>\n",
              "      <th>374</th>\n",
              "      <td>Belarus</td>\n",
              "      <td>BLR</td>\n",
              "      <td>31/12/2020</td>\n",
              "      <td>NaN</td>\n",
              "      <td>NaN</td>\n",
              "      <td>403.0</td>\n",
              "    </tr>\n",
              "    <tr>\n",
              "      <th>427</th>\n",
              "      <td>Belgium</td>\n",
              "      <td>BEL</td>\n",
              "      <td>31/12/2020</td>\n",
              "      <td>786.0</td>\n",
              "      <td>786.0</td>\n",
              "      <td>163.0</td>\n",
              "    </tr>\n",
              "    <tr>\n",
              "      <th>591</th>\n",
              "      <td>Bulgaria</td>\n",
              "      <td>BGR</td>\n",
              "      <td>31/12/2020</td>\n",
              "      <td>NaN</td>\n",
              "      <td>NaN</td>\n",
              "      <td>1477.0</td>\n",
              "    </tr>\n",
              "    <tr>\n",
              "      <th>723</th>\n",
              "      <td>Cayman Islands</td>\n",
              "      <td>CYM</td>\n",
              "      <td>31/12/2020</td>\n",
              "      <td>NaN</td>\n",
              "      <td>NaN</td>\n",
              "      <td>275.0</td>\n",
              "    </tr>\n",
              "    <tr>\n",
              "      <th>787</th>\n",
              "      <td>Chile</td>\n",
              "      <td>CHL</td>\n",
              "      <td>31/12/2020</td>\n",
              "      <td>8650.0</td>\n",
              "      <td>8650.0</td>\n",
              "      <td>1176.0</td>\n",
              "    </tr>\n",
              "    <tr>\n",
              "      <th>863</th>\n",
              "      <td>China</td>\n",
              "      <td>CHN</td>\n",
              "      <td>31/12/2020</td>\n",
              "      <td>4500000.0</td>\n",
              "      <td>NaN</td>\n",
              "      <td>187500.0</td>\n",
              "    </tr>\n",
              "    <tr>\n",
              "      <th>924</th>\n",
              "      <td>Costa Rica</td>\n",
              "      <td>CRI</td>\n",
              "      <td>31/12/2020</td>\n",
              "      <td>NaN</td>\n",
              "      <td>NaN</td>\n",
              "      <td>240.0</td>\n",
              "    </tr>\n",
              "    <tr>\n",
              "      <th>979</th>\n",
              "      <td>Croatia</td>\n",
              "      <td>HRV</td>\n",
              "      <td>31/12/2020</td>\n",
              "      <td>NaN</td>\n",
              "      <td>NaN</td>\n",
              "      <td>1105.0</td>\n",
              "    </tr>\n",
              "    <tr>\n",
              "      <th>1092</th>\n",
              "      <td>Czechia</td>\n",
              "      <td>CZE</td>\n",
              "      <td>31/12/2020</td>\n",
              "      <td>11798.0</td>\n",
              "      <td>11798.0</td>\n",
              "      <td>2634.0</td>\n",
              "    </tr>\n",
              "    <tr>\n",
              "      <th>1156</th>\n",
              "      <td>Denmark</td>\n",
              "      <td>DNK</td>\n",
              "      <td>31/12/2020</td>\n",
              "      <td>34980.0</td>\n",
              "      <td>34980.0</td>\n",
              "      <td>7128.0</td>\n",
              "    </tr>\n",
              "    <tr>\n",
              "      <th>1291</th>\n",
              "      <td>England</td>\n",
              "      <td>NaN</td>\n",
              "      <td>31/12/2020</td>\n",
              "      <td>NaN</td>\n",
              "      <td>NaN</td>\n",
              "      <td>45005.0</td>\n",
              "    </tr>\n",
              "    <tr>\n",
              "      <th>1353</th>\n",
              "      <td>Estonia</td>\n",
              "      <td>EST</td>\n",
              "      <td>31/12/2020</td>\n",
              "      <td>1907.0</td>\n",
              "      <td>NaN</td>\n",
              "      <td>567.0</td>\n",
              "    </tr>\n",
              "    <tr>\n",
              "      <th>1455</th>\n",
              "      <td>Finland</td>\n",
              "      <td>FIN</td>\n",
              "      <td>31/12/2020</td>\n",
              "      <td>1767.0</td>\n",
              "      <td>NaN</td>\n",
              "      <td>NaN</td>\n",
              "    </tr>\n",
              "    <tr>\n",
              "      <th>1519</th>\n",
              "      <td>France</td>\n",
              "      <td>FRA</td>\n",
              "      <td>31/12/2020</td>\n",
              "      <td>316.0</td>\n",
              "      <td>316.0</td>\n",
              "      <td>76.0</td>\n",
              "    </tr>\n",
              "    <tr>\n",
              "      <th>1582</th>\n",
              "      <td>Germany</td>\n",
              "      <td>DEU</td>\n",
              "      <td>31/12/2020</td>\n",
              "      <td>181344.0</td>\n",
              "      <td>181344.0</td>\n",
              "      <td>39447.0</td>\n",
              "    </tr>\n",
              "    <tr>\n",
              "      <th>1694</th>\n",
              "      <td>Greece</td>\n",
              "      <td>GRC</td>\n",
              "      <td>31/12/2020</td>\n",
              "      <td>2339.0</td>\n",
              "      <td>2339.0</td>\n",
              "      <td>631.0</td>\n",
              "    </tr>\n",
              "    <tr>\n",
              "      <th>1811</th>\n",
              "      <td>Hungary</td>\n",
              "      <td>HUN</td>\n",
              "      <td>31/12/2020</td>\n",
              "      <td>5110.0</td>\n",
              "      <td>NaN</td>\n",
              "      <td>1339.0</td>\n",
              "    </tr>\n",
              "    <tr>\n",
              "      <th>1872</th>\n",
              "      <td>Iceland</td>\n",
              "      <td>ISL</td>\n",
              "      <td>31/12/2020</td>\n",
              "      <td>NaN</td>\n",
              "      <td>NaN</td>\n",
              "      <td>63.0</td>\n",
              "    </tr>\n",
              "    <tr>\n",
              "      <th>2033</th>\n",
              "      <td>Ireland</td>\n",
              "      <td>IRL</td>\n",
              "      <td>31/12/2020</td>\n",
              "      <td>1800.0</td>\n",
              "      <td>NaN</td>\n",
              "      <td>NaN</td>\n",
              "    </tr>\n",
              "    <tr>\n",
              "      <th>2141</th>\n",
              "      <td>Israel</td>\n",
              "      <td>ISR</td>\n",
              "      <td>31/12/2020</td>\n",
              "      <td>997449.0</td>\n",
              "      <td>997449.0</td>\n",
              "      <td>111987.0</td>\n",
              "    </tr>\n",
              "    <tr>\n",
              "      <th>2205</th>\n",
              "      <td>Italy</td>\n",
              "      <td>ITA</td>\n",
              "      <td>31/12/2020</td>\n",
              "      <td>38899.0</td>\n",
              "      <td>38899.0</td>\n",
              "      <td>7971.0</td>\n",
              "    </tr>\n",
              "    <tr>\n",
              "      <th>2377</th>\n",
              "      <td>Kuwait</td>\n",
              "      <td>KWT</td>\n",
              "      <td>31/12/2020</td>\n",
              "      <td>NaN</td>\n",
              "      <td>NaN</td>\n",
              "      <td>1121.0</td>\n",
              "    </tr>\n",
              "    <tr>\n",
              "      <th>2544</th>\n",
              "      <td>Lithuania</td>\n",
              "      <td>LTU</td>\n",
              "      <td>31/12/2020</td>\n",
              "      <td>9751.0</td>\n",
              "      <td>9751.0</td>\n",
              "      <td>1102.0</td>\n",
              "    </tr>\n",
              "    <tr>\n",
              "      <th>2605</th>\n",
              "      <td>Luxembourg</td>\n",
              "      <td>LUX</td>\n",
              "      <td>31/12/2020</td>\n",
              "      <td>NaN</td>\n",
              "      <td>NaN</td>\n",
              "      <td>62.0</td>\n",
              "    </tr>\n",
              "    <tr>\n",
              "      <th>2778</th>\n",
              "      <td>Mexico</td>\n",
              "      <td>MEX</td>\n",
              "      <td>31/12/2020</td>\n",
              "      <td>NaN</td>\n",
              "      <td>NaN</td>\n",
              "      <td>3695.0</td>\n",
              "    </tr>\n",
              "    <tr>\n",
              "      <th>2839</th>\n",
              "      <td>Monaco</td>\n",
              "      <td>MCO</td>\n",
              "      <td>31/12/2020</td>\n",
              "      <td>NaN</td>\n",
              "      <td>NaN</td>\n",
              "      <td>126.0</td>\n",
              "    </tr>\n",
              "    <tr>\n",
              "      <th>3021</th>\n",
              "      <td>Northern Ireland</td>\n",
              "      <td>NaN</td>\n",
              "      <td>31/12/2020</td>\n",
              "      <td>NaN</td>\n",
              "      <td>NaN</td>\n",
              "      <td>1808.0</td>\n",
              "    </tr>\n",
              "    <tr>\n",
              "      <th>3084</th>\n",
              "      <td>Norway</td>\n",
              "      <td>NOR</td>\n",
              "      <td>31/12/2020</td>\n",
              "      <td>2171.0</td>\n",
              "      <td>2171.0</td>\n",
              "      <td>542.0</td>\n",
              "    </tr>\n",
              "    <tr>\n",
              "      <th>3144</th>\n",
              "      <td>Oman</td>\n",
              "      <td>OMN</td>\n",
              "      <td>31/12/2020</td>\n",
              "      <td>6516.0</td>\n",
              "      <td>6516.0</td>\n",
              "      <td>1600.0</td>\n",
              "    </tr>\n",
              "    <tr>\n",
              "      <th>3286</th>\n",
              "      <td>Poland</td>\n",
              "      <td>POL</td>\n",
              "      <td>31/12/2020</td>\n",
              "      <td>47600.0</td>\n",
              "      <td>47600.0</td>\n",
              "      <td>15200.0</td>\n",
              "    </tr>\n",
              "    <tr>\n",
              "      <th>3350</th>\n",
              "      <td>Portugal</td>\n",
              "      <td>PRT</td>\n",
              "      <td>31/12/2020</td>\n",
              "      <td>32749.0</td>\n",
              "      <td>32749.0</td>\n",
              "      <td>6946.0</td>\n",
              "    </tr>\n",
              "    <tr>\n",
              "      <th>3419</th>\n",
              "      <td>Qatar</td>\n",
              "      <td>QAT</td>\n",
              "      <td>31/12/2020</td>\n",
              "      <td>NaN</td>\n",
              "      <td>NaN</td>\n",
              "      <td>1351.0</td>\n",
              "    </tr>\n",
              "    <tr>\n",
              "      <th>3472</th>\n",
              "      <td>Romania</td>\n",
              "      <td>ROU</td>\n",
              "      <td>31/12/2020</td>\n",
              "      <td>10289.0</td>\n",
              "      <td>10289.0</td>\n",
              "      <td>2741.0</td>\n",
              "    </tr>\n",
              "    <tr>\n",
              "      <th>3548</th>\n",
              "      <td>Russia</td>\n",
              "      <td>RUS</td>\n",
              "      <td>31/12/2020</td>\n",
              "      <td>NaN</td>\n",
              "      <td>NaN</td>\n",
              "      <td>68000.0</td>\n",
              "    </tr>\n",
              "    <tr>\n",
              "      <th>3664</th>\n",
              "      <td>Scotland</td>\n",
              "      <td>NaN</td>\n",
              "      <td>31/12/2020</td>\n",
              "      <td>NaN</td>\n",
              "      <td>NaN</td>\n",
              "      <td>3867.0</td>\n",
              "    </tr>\n",
              "    <tr>\n",
              "      <th>3928</th>\n",
              "      <td>Slovenia</td>\n",
              "      <td>SVN</td>\n",
              "      <td>31/12/2020</td>\n",
              "      <td>10890.0</td>\n",
              "      <td>10890.0</td>\n",
              "      <td>1244.0</td>\n",
              "    </tr>\n",
              "    <tr>\n",
              "      <th>4092</th>\n",
              "      <td>Sweden</td>\n",
              "      <td>SWE</td>\n",
              "      <td>31/12/2020</td>\n",
              "      <td>NaN</td>\n",
              "      <td>NaN</td>\n",
              "      <td>1767.0</td>\n",
              "    </tr>\n",
              "    <tr>\n",
              "      <th>4337</th>\n",
              "      <td>United States</td>\n",
              "      <td>USA</td>\n",
              "      <td>31/12/2020</td>\n",
              "      <td>NaN</td>\n",
              "      <td>NaN</td>\n",
              "      <td>278776.0</td>\n",
              "    </tr>\n",
              "    <tr>\n",
              "      <th>4421</th>\n",
              "      <td>Wales</td>\n",
              "      <td>NaN</td>\n",
              "      <td>31/12/2020</td>\n",
              "      <td>NaN</td>\n",
              "      <td>NaN</td>\n",
              "      <td>1923.0</td>\n",
              "    </tr>\n",
              "  </tbody>\n",
              "</table>\n",
              "</div>"
            ],
            "text/plain": [
              "              location iso_code  ... people_vaccinated  daily_vaccinations\n",
              "113          Argentina      ARG  ...               NaN             15656.0\n",
              "265            Bahrain      BHR  ...           58643.0              1225.0\n",
              "374            Belarus      BLR  ...               NaN               403.0\n",
              "427            Belgium      BEL  ...             786.0               163.0\n",
              "591           Bulgaria      BGR  ...               NaN              1477.0\n",
              "723     Cayman Islands      CYM  ...               NaN               275.0\n",
              "787              Chile      CHL  ...            8650.0              1176.0\n",
              "863              China      CHN  ...               NaN            187500.0\n",
              "924         Costa Rica      CRI  ...               NaN               240.0\n",
              "979            Croatia      HRV  ...               NaN              1105.0\n",
              "1092           Czechia      CZE  ...           11798.0              2634.0\n",
              "1156           Denmark      DNK  ...           34980.0              7128.0\n",
              "1291           England      NaN  ...               NaN             45005.0\n",
              "1353           Estonia      EST  ...               NaN               567.0\n",
              "1455           Finland      FIN  ...               NaN                 NaN\n",
              "1519            France      FRA  ...             316.0                76.0\n",
              "1582           Germany      DEU  ...          181344.0             39447.0\n",
              "1694            Greece      GRC  ...            2339.0               631.0\n",
              "1811           Hungary      HUN  ...               NaN              1339.0\n",
              "1872           Iceland      ISL  ...               NaN                63.0\n",
              "2033           Ireland      IRL  ...               NaN                 NaN\n",
              "2141            Israel      ISR  ...          997449.0            111987.0\n",
              "2205             Italy      ITA  ...           38899.0              7971.0\n",
              "2377            Kuwait      KWT  ...               NaN              1121.0\n",
              "2544         Lithuania      LTU  ...            9751.0              1102.0\n",
              "2605        Luxembourg      LUX  ...               NaN                62.0\n",
              "2778            Mexico      MEX  ...               NaN              3695.0\n",
              "2839            Monaco      MCO  ...               NaN               126.0\n",
              "3021  Northern Ireland      NaN  ...               NaN              1808.0\n",
              "3084            Norway      NOR  ...            2171.0               542.0\n",
              "3144              Oman      OMN  ...            6516.0              1600.0\n",
              "3286            Poland      POL  ...           47600.0             15200.0\n",
              "3350          Portugal      PRT  ...           32749.0              6946.0\n",
              "3419             Qatar      QAT  ...               NaN              1351.0\n",
              "3472           Romania      ROU  ...           10289.0              2741.0\n",
              "3548            Russia      RUS  ...               NaN             68000.0\n",
              "3664          Scotland      NaN  ...               NaN              3867.0\n",
              "3928          Slovenia      SVN  ...           10890.0              1244.0\n",
              "4092            Sweden      SWE  ...               NaN              1767.0\n",
              "4337     United States      USA  ...               NaN            278776.0\n",
              "4421             Wales      NaN  ...               NaN              1923.0\n",
              "\n",
              "[41 rows x 6 columns]"
            ]
          },
          "metadata": {
            "tags": []
          },
          "execution_count": 140
        }
      ]
    },
    {
      "cell_type": "code",
      "metadata": {
        "colab": {
          "base_uri": "https://localhost:8080/"
        },
        "id": "Dtji97HXJOWl",
        "outputId": "6408097a-3012-4082-8632-8148528869fa"
      },
      "source": [
        "Ultima_Data.shape\n",
        "#Mostra qtde linhas , colunas"
      ],
      "execution_count": null,
      "outputs": [
        {
          "output_type": "execute_result",
          "data": {
            "text/plain": [
              "(41, 6)"
            ]
          },
          "metadata": {
            "tags": []
          },
          "execution_count": 141
        }
      ]
    },
    {
      "cell_type": "markdown",
      "metadata": {
        "id": "fYPMyCn6J64N"
      },
      "source": [
        "# **Correção de dados e análise da base**\n",
        "\n",
        "Nem todos os paise reportaram na ultima data por isso tem 118 paise e 37 registros na ultima data"
      ]
    },
    {
      "cell_type": "code",
      "metadata": {
        "colab": {
          "base_uri": "https://localhost:8080/"
        },
        "id": "qiX9am7HKp3q",
        "outputId": "40d73ffa-9fcc-4785-9fa5-15468d2e0780"
      },
      "source": [
        "Dataframe.groupby ('location')['date'].max().sort_values(ascending=False)\n",
        "#Selecionando o ultimo registro de cada pais"
      ],
      "execution_count": null,
      "outputs": [
        {
          "output_type": "execute_result",
          "data": {
            "text/plain": [
              "location\n",
              "Poland          31/12/2020\n",
              "France          31/12/2020\n",
              "Portugal        31/12/2020\n",
              "Italy           31/12/2020\n",
              "Czechia         31/12/2020\n",
              "                   ...    \n",
              "Pakistan        21/02/2021\n",
              "Macao           18/02/2021\n",
              "Iran            17/02/2021\n",
              "Anguilla        14/02/2021\n",
              "Saint Helena    03/02/2021\n",
              "Name: date, Length: 116, dtype: object"
            ]
          },
          "metadata": {
            "tags": []
          },
          "execution_count": 142
        }
      ]
    },
    {
      "cell_type": "code",
      "metadata": {
        "colab": {
          "base_uri": "https://localhost:8080/"
        },
        "id": "EntUEsGQLO25",
        "outputId": "dba7ce80-eb47-48a3-9c4e-a27661c79717"
      },
      "source": [
        "Dataframe.groupby ('location')['total_vaccinations'].max().sort_values(ascending=False)\n",
        "#Pegando o valor maximo de imunizações de cada pais"
      ],
      "execution_count": null,
      "outputs": [
        {
          "output_type": "execute_result",
          "data": {
            "text/plain": [
              "location\n",
              "United States          75236003.0\n",
              "China                  40520000.0\n",
              "England                17641792.0\n",
              "India                  14301266.0\n",
              "Turkey                  8547875.0\n",
              "                          ...    \n",
              "Paraguay                   1000.0\n",
              "Trinidad and Tobago         440.0\n",
              "Venezuela                   157.0\n",
              "Saint Helena                107.0\n",
              "San Marino                   35.0\n",
              "Name: total_vaccinations, Length: 116, dtype: float64"
            ]
          },
          "metadata": {
            "tags": []
          },
          "execution_count": 143
        }
      ]
    },
    {
      "cell_type": "code",
      "metadata": {
        "colab": {
          "base_uri": "https://localhost:8080/"
        },
        "id": "Nmit_VpHLOUK",
        "outputId": "318ab140-def3-4bc0-d931-d922f41b7752"
      },
      "source": [
        "Imunizados_por_pais = Dataframe.groupby('location')['total_vaccinations'].max().sort_values(ascending=False)\n",
        "print(Imunizados_por_pais)\n",
        "type(Imunizados_por_pais)\n",
        "#Numero total de imunizados por pais"
      ],
      "execution_count": null,
      "outputs": [
        {
          "output_type": "stream",
          "text": [
            "location\n",
            "United States          75236003.0\n",
            "China                  40520000.0\n",
            "England                17641792.0\n",
            "India                  14301266.0\n",
            "Turkey                  8547875.0\n",
            "                          ...    \n",
            "Paraguay                   1000.0\n",
            "Trinidad and Tobago         440.0\n",
            "Venezuela                   157.0\n",
            "Saint Helena                107.0\n",
            "San Marino                   35.0\n",
            "Name: total_vaccinations, Length: 116, dtype: float64\n"
          ],
          "name": "stdout"
        },
        {
          "output_type": "execute_result",
          "data": {
            "text/plain": [
              "pandas.core.series.Series"
            ]
          },
          "metadata": {
            "tags": []
          },
          "execution_count": 144
        }
      ]
    },
    {
      "cell_type": "code",
      "metadata": {
        "colab": {
          "base_uri": "https://localhost:8080/",
          "height": 419
        },
        "id": "Dl4HqQQiNfNH",
        "outputId": "b67021f1-3288-48cc-fdb9-aa23b07bdbed"
      },
      "source": [
        "Imunizados = Imunizados_por_pais.to_frame().reset_index()\n",
        "Imunizados\n",
        "#Gera a relação do numero total de imunizados por pais"
      ],
      "execution_count": null,
      "outputs": [
        {
          "output_type": "execute_result",
          "data": {
            "text/html": [
              "<div>\n",
              "<style scoped>\n",
              "    .dataframe tbody tr th:only-of-type {\n",
              "        vertical-align: middle;\n",
              "    }\n",
              "\n",
              "    .dataframe tbody tr th {\n",
              "        vertical-align: top;\n",
              "    }\n",
              "\n",
              "    .dataframe thead th {\n",
              "        text-align: right;\n",
              "    }\n",
              "</style>\n",
              "<table border=\"1\" class=\"dataframe\">\n",
              "  <thead>\n",
              "    <tr style=\"text-align: right;\">\n",
              "      <th></th>\n",
              "      <th>location</th>\n",
              "      <th>total_vaccinations</th>\n",
              "    </tr>\n",
              "  </thead>\n",
              "  <tbody>\n",
              "    <tr>\n",
              "      <th>0</th>\n",
              "      <td>United States</td>\n",
              "      <td>75236003.0</td>\n",
              "    </tr>\n",
              "    <tr>\n",
              "      <th>1</th>\n",
              "      <td>China</td>\n",
              "      <td>40520000.0</td>\n",
              "    </tr>\n",
              "    <tr>\n",
              "      <th>2</th>\n",
              "      <td>England</td>\n",
              "      <td>17641792.0</td>\n",
              "    </tr>\n",
              "    <tr>\n",
              "      <th>3</th>\n",
              "      <td>India</td>\n",
              "      <td>14301266.0</td>\n",
              "    </tr>\n",
              "    <tr>\n",
              "      <th>4</th>\n",
              "      <td>Turkey</td>\n",
              "      <td>8547875.0</td>\n",
              "    </tr>\n",
              "    <tr>\n",
              "      <th>...</th>\n",
              "      <td>...</td>\n",
              "      <td>...</td>\n",
              "    </tr>\n",
              "    <tr>\n",
              "      <th>111</th>\n",
              "      <td>Paraguay</td>\n",
              "      <td>1000.0</td>\n",
              "    </tr>\n",
              "    <tr>\n",
              "      <th>112</th>\n",
              "      <td>Trinidad and Tobago</td>\n",
              "      <td>440.0</td>\n",
              "    </tr>\n",
              "    <tr>\n",
              "      <th>113</th>\n",
              "      <td>Venezuela</td>\n",
              "      <td>157.0</td>\n",
              "    </tr>\n",
              "    <tr>\n",
              "      <th>114</th>\n",
              "      <td>Saint Helena</td>\n",
              "      <td>107.0</td>\n",
              "    </tr>\n",
              "    <tr>\n",
              "      <th>115</th>\n",
              "      <td>San Marino</td>\n",
              "      <td>35.0</td>\n",
              "    </tr>\n",
              "  </tbody>\n",
              "</table>\n",
              "<p>116 rows × 2 columns</p>\n",
              "</div>"
            ],
            "text/plain": [
              "                location  total_vaccinations\n",
              "0          United States          75236003.0\n",
              "1                  China          40520000.0\n",
              "2                England          17641792.0\n",
              "3                  India          14301266.0\n",
              "4                 Turkey           8547875.0\n",
              "..                   ...                 ...\n",
              "111             Paraguay              1000.0\n",
              "112  Trinidad and Tobago               440.0\n",
              "113            Venezuela               157.0\n",
              "114         Saint Helena               107.0\n",
              "115           San Marino                35.0\n",
              "\n",
              "[116 rows x 2 columns]"
            ]
          },
          "metadata": {
            "tags": []
          },
          "execution_count": 145
        }
      ]
    },
    {
      "cell_type": "code",
      "metadata": {
        "colab": {
          "base_uri": "https://localhost:8080/",
          "height": 359
        },
        "id": "74f7lbJMODyt",
        "outputId": "ec0697d2-92c9-494b-c660-74e662a35580"
      },
      "source": [
        "Imunizados.sort_values('total_vaccinations',ascending=False).head(10)"
      ],
      "execution_count": null,
      "outputs": [
        {
          "output_type": "execute_result",
          "data": {
            "text/html": [
              "<div>\n",
              "<style scoped>\n",
              "    .dataframe tbody tr th:only-of-type {\n",
              "        vertical-align: middle;\n",
              "    }\n",
              "\n",
              "    .dataframe tbody tr th {\n",
              "        vertical-align: top;\n",
              "    }\n",
              "\n",
              "    .dataframe thead th {\n",
              "        text-align: right;\n",
              "    }\n",
              "</style>\n",
              "<table border=\"1\" class=\"dataframe\">\n",
              "  <thead>\n",
              "    <tr style=\"text-align: right;\">\n",
              "      <th></th>\n",
              "      <th>location</th>\n",
              "      <th>total_vaccinations</th>\n",
              "    </tr>\n",
              "  </thead>\n",
              "  <tbody>\n",
              "    <tr>\n",
              "      <th>0</th>\n",
              "      <td>United States</td>\n",
              "      <td>75236003.0</td>\n",
              "    </tr>\n",
              "    <tr>\n",
              "      <th>1</th>\n",
              "      <td>China</td>\n",
              "      <td>40520000.0</td>\n",
              "    </tr>\n",
              "    <tr>\n",
              "      <th>2</th>\n",
              "      <td>England</td>\n",
              "      <td>17641792.0</td>\n",
              "    </tr>\n",
              "    <tr>\n",
              "      <th>3</th>\n",
              "      <td>India</td>\n",
              "      <td>14301266.0</td>\n",
              "    </tr>\n",
              "    <tr>\n",
              "      <th>4</th>\n",
              "      <td>Turkey</td>\n",
              "      <td>8547875.0</td>\n",
              "    </tr>\n",
              "    <tr>\n",
              "      <th>5</th>\n",
              "      <td>Brazil</td>\n",
              "      <td>8433568.0</td>\n",
              "    </tr>\n",
              "    <tr>\n",
              "      <th>6</th>\n",
              "      <td>Israel</td>\n",
              "      <td>8092725.0</td>\n",
              "    </tr>\n",
              "    <tr>\n",
              "      <th>7</th>\n",
              "      <td>Germany</td>\n",
              "      <td>6174362.0</td>\n",
              "    </tr>\n",
              "    <tr>\n",
              "      <th>8</th>\n",
              "      <td>United Arab Emirates</td>\n",
              "      <td>6020461.0</td>\n",
              "    </tr>\n",
              "    <tr>\n",
              "      <th>9</th>\n",
              "      <td>France</td>\n",
              "      <td>4550370.0</td>\n",
              "    </tr>\n",
              "  </tbody>\n",
              "</table>\n",
              "</div>"
            ],
            "text/plain": [
              "               location  total_vaccinations\n",
              "0         United States          75236003.0\n",
              "1                 China          40520000.0\n",
              "2               England          17641792.0\n",
              "3                 India          14301266.0\n",
              "4                Turkey           8547875.0\n",
              "5                Brazil           8433568.0\n",
              "6                Israel           8092725.0\n",
              "7               Germany           6174362.0\n",
              "8  United Arab Emirates           6020461.0\n",
              "9                France           4550370.0"
            ]
          },
          "metadata": {
            "tags": []
          },
          "execution_count": 146
        }
      ]
    },
    {
      "cell_type": "markdown",
      "metadata": {
        "id": "At5H4eM2P447"
      },
      "source": [
        "# **Se o banco de dados tive tipo de vacina aplicada **\n",
        "\n",
        "Filtrando os tipos de vacinas por pais"
      ]
    },
    {
      "cell_type": "markdown",
      "metadata": {
        "id": "mxGobAsjQoH6"
      },
      "source": [
        "Vacinas_por_pais = Dataframe [['location','date','vaccines']]\n",
        "# #Cria datafreme com pais,data e tipo de vacina\n",
        "Vacinas_por_pais.groupby('vaccines')['location'].nunique().sort_values(ascending=False)\n",
        "# #Agrupa e conta os paises\n",
        "Vacinas_por_pais = Dataframe.groupby('location')['vaccines'].nunique()\n",
        "Vacinas_por_pais = Vacinas_por_pais.to_frame().reset_index()\n",
        "# #Agrupa e reseta o indice da nova tabela\n",
        "\n",
        "\n"
      ]
    },
    {
      "cell_type": "markdown",
      "metadata": {
        "id": "KahI7R8_S1UD"
      },
      "source": [
        "# **Pais com o maior numero de vacinados por dia**"
      ]
    },
    {
      "cell_type": "code",
      "metadata": {
        "colab": {
          "base_uri": "https://localhost:8080/"
        },
        "id": "95OGLeAaS-QV",
        "outputId": "111c2d1e-5c7f-4add-e5dc-be139c8bc6b3"
      },
      "source": [
        "Dataframe.groupby('location')['daily_vaccinations'].max().sort_values(ascending=False)"
      ],
      "execution_count": null,
      "outputs": [
        {
          "output_type": "execute_result",
          "data": {
            "text/plain": [
              "location\n",
              "China                  1916190.0\n",
              "United States          1735053.0\n",
              "India                   486318.0\n",
              "Turkey                  435596.0\n",
              "England                 376532.0\n",
              "                         ...    \n",
              "Trinidad and Tobago         63.0\n",
              "Venezuela                   31.0\n",
              "Greenland                    NaN\n",
              "Saint Helena                 NaN\n",
              "San Marino                   NaN\n",
              "Name: daily_vaccinations, Length: 116, dtype: float64"
            ]
          },
          "metadata": {
            "tags": []
          },
          "execution_count": 147
        }
      ]
    },
    {
      "cell_type": "markdown",
      "metadata": {
        "id": "XVaKOTC3TnLq"
      },
      "source": [
        "# **Media de vacinação por pais**"
      ]
    },
    {
      "cell_type": "code",
      "metadata": {
        "colab": {
          "base_uri": "https://localhost:8080/",
          "height": 419
        },
        "id": "jdd2caIcTnpC",
        "outputId": "722c2a10-05df-48c4-a9db-c97ccf8b2ace"
      },
      "source": [
        "Media_pais = Dataframe.groupby('location')['daily_vaccinations'].mean().sort_values(ascending=False)\n",
        "Media_pais = Media_pais.to_frame().reset_index()\n",
        "Media_pais"
      ],
      "execution_count": null,
      "outputs": [
        {
          "output_type": "execute_result",
          "data": {
            "text/html": [
              "<div>\n",
              "<style scoped>\n",
              "    .dataframe tbody tr th:only-of-type {\n",
              "        vertical-align: middle;\n",
              "    }\n",
              "\n",
              "    .dataframe tbody tr th {\n",
              "        vertical-align: top;\n",
              "    }\n",
              "\n",
              "    .dataframe thead th {\n",
              "        text-align: right;\n",
              "    }\n",
              "</style>\n",
              "<table border=\"1\" class=\"dataframe\">\n",
              "  <thead>\n",
              "    <tr style=\"text-align: right;\">\n",
              "      <th></th>\n",
              "      <th>location</th>\n",
              "      <th>daily_vaccinations</th>\n",
              "    </tr>\n",
              "  </thead>\n",
              "  <tbody>\n",
              "    <tr>\n",
              "      <th>0</th>\n",
              "      <td>United States</td>\n",
              "      <td>982394.571429</td>\n",
              "    </tr>\n",
              "    <tr>\n",
              "      <th>1</th>\n",
              "      <td>China</td>\n",
              "      <td>623616.000000</td>\n",
              "    </tr>\n",
              "    <tr>\n",
              "      <th>2</th>\n",
              "      <td>India</td>\n",
              "      <td>306434.454545</td>\n",
              "    </tr>\n",
              "    <tr>\n",
              "      <th>3</th>\n",
              "      <td>England</td>\n",
              "      <td>218455.144737</td>\n",
              "    </tr>\n",
              "    <tr>\n",
              "      <th>4</th>\n",
              "      <td>Turkey</td>\n",
              "      <td>187049.043478</td>\n",
              "    </tr>\n",
              "    <tr>\n",
              "      <th>...</th>\n",
              "      <td>...</td>\n",
              "      <td>...</td>\n",
              "    </tr>\n",
              "    <tr>\n",
              "      <th>111</th>\n",
              "      <td>Liechtenstein</td>\n",
              "      <td>52.619048</td>\n",
              "    </tr>\n",
              "    <tr>\n",
              "      <th>112</th>\n",
              "      <td>Venezuela</td>\n",
              "      <td>31.000000</td>\n",
              "    </tr>\n",
              "    <tr>\n",
              "      <th>113</th>\n",
              "      <td>Greenland</td>\n",
              "      <td>NaN</td>\n",
              "    </tr>\n",
              "    <tr>\n",
              "      <th>114</th>\n",
              "      <td>Saint Helena</td>\n",
              "      <td>NaN</td>\n",
              "    </tr>\n",
              "    <tr>\n",
              "      <th>115</th>\n",
              "      <td>San Marino</td>\n",
              "      <td>NaN</td>\n",
              "    </tr>\n",
              "  </tbody>\n",
              "</table>\n",
              "<p>116 rows × 2 columns</p>\n",
              "</div>"
            ],
            "text/plain": [
              "          location  daily_vaccinations\n",
              "0    United States       982394.571429\n",
              "1            China       623616.000000\n",
              "2            India       306434.454545\n",
              "3          England       218455.144737\n",
              "4           Turkey       187049.043478\n",
              "..             ...                 ...\n",
              "111  Liechtenstein           52.619048\n",
              "112      Venezuela           31.000000\n",
              "113      Greenland                 NaN\n",
              "114   Saint Helena                 NaN\n",
              "115     San Marino                 NaN\n",
              "\n",
              "[116 rows x 2 columns]"
            ]
          },
          "metadata": {
            "tags": []
          },
          "execution_count": 148
        }
      ]
    },
    {
      "cell_type": "markdown",
      "metadata": {
        "id": "F9l_ZXO5eI_e"
      },
      "source": [
        "Precisa TROCAR o ponto por virgula ou mudar metodo de salvar"
      ]
    },
    {
      "cell_type": "markdown",
      "metadata": {
        "id": "ZGkpqb5RUiiL"
      },
      "source": [
        "# **ALterando as bases de dados**\n",
        "\n",
        "**Nome das colunas**"
      ]
    },
    {
      "cell_type": "code",
      "metadata": {
        "colab": {
          "base_uri": "https://localhost:8080/",
          "height": 419
        },
        "id": "TAz86ZZ_UpKc",
        "outputId": "fb40a3e0-759f-498a-efc5-425d2277a066"
      },
      "source": [
        "Media_pais = Media_pais.rename(columns={'location' : 'país' , 'daily_vaccinations' : 'media_vacinação'})\n",
        "Media_pais"
      ],
      "execution_count": null,
      "outputs": [
        {
          "output_type": "execute_result",
          "data": {
            "text/html": [
              "<div>\n",
              "<style scoped>\n",
              "    .dataframe tbody tr th:only-of-type {\n",
              "        vertical-align: middle;\n",
              "    }\n",
              "\n",
              "    .dataframe tbody tr th {\n",
              "        vertical-align: top;\n",
              "    }\n",
              "\n",
              "    .dataframe thead th {\n",
              "        text-align: right;\n",
              "    }\n",
              "</style>\n",
              "<table border=\"1\" class=\"dataframe\">\n",
              "  <thead>\n",
              "    <tr style=\"text-align: right;\">\n",
              "      <th></th>\n",
              "      <th>país</th>\n",
              "      <th>media_vacinação</th>\n",
              "    </tr>\n",
              "  </thead>\n",
              "  <tbody>\n",
              "    <tr>\n",
              "      <th>0</th>\n",
              "      <td>United States</td>\n",
              "      <td>982394.571429</td>\n",
              "    </tr>\n",
              "    <tr>\n",
              "      <th>1</th>\n",
              "      <td>China</td>\n",
              "      <td>623616.000000</td>\n",
              "    </tr>\n",
              "    <tr>\n",
              "      <th>2</th>\n",
              "      <td>India</td>\n",
              "      <td>306434.454545</td>\n",
              "    </tr>\n",
              "    <tr>\n",
              "      <th>3</th>\n",
              "      <td>England</td>\n",
              "      <td>218455.144737</td>\n",
              "    </tr>\n",
              "    <tr>\n",
              "      <th>4</th>\n",
              "      <td>Turkey</td>\n",
              "      <td>187049.043478</td>\n",
              "    </tr>\n",
              "    <tr>\n",
              "      <th>...</th>\n",
              "      <td>...</td>\n",
              "      <td>...</td>\n",
              "    </tr>\n",
              "    <tr>\n",
              "      <th>111</th>\n",
              "      <td>Liechtenstein</td>\n",
              "      <td>52.619048</td>\n",
              "    </tr>\n",
              "    <tr>\n",
              "      <th>112</th>\n",
              "      <td>Venezuela</td>\n",
              "      <td>31.000000</td>\n",
              "    </tr>\n",
              "    <tr>\n",
              "      <th>113</th>\n",
              "      <td>Greenland</td>\n",
              "      <td>NaN</td>\n",
              "    </tr>\n",
              "    <tr>\n",
              "      <th>114</th>\n",
              "      <td>Saint Helena</td>\n",
              "      <td>NaN</td>\n",
              "    </tr>\n",
              "    <tr>\n",
              "      <th>115</th>\n",
              "      <td>San Marino</td>\n",
              "      <td>NaN</td>\n",
              "    </tr>\n",
              "  </tbody>\n",
              "</table>\n",
              "<p>116 rows × 2 columns</p>\n",
              "</div>"
            ],
            "text/plain": [
              "              país  media_vacinação\n",
              "0    United States    982394.571429\n",
              "1            China    623616.000000\n",
              "2            India    306434.454545\n",
              "3          England    218455.144737\n",
              "4           Turkey    187049.043478\n",
              "..             ...              ...\n",
              "111  Liechtenstein        52.619048\n",
              "112      Venezuela        31.000000\n",
              "113      Greenland              NaN\n",
              "114   Saint Helena              NaN\n",
              "115     San Marino              NaN\n",
              "\n",
              "[116 rows x 2 columns]"
            ]
          },
          "metadata": {
            "tags": []
          },
          "execution_count": 149
        }
      ]
    },
    {
      "cell_type": "code",
      "metadata": {
        "colab": {
          "base_uri": "https://localhost:8080/",
          "height": 419
        },
        "id": "QBGoRnHIVdQu",
        "outputId": "a4fd627b-a030-489d-966f-f657f2c6bc0e"
      },
      "source": [
        "Imunizados =Imunizados.rename(columns={'location' : 'país' , 'total_vaccinations' : 'imunizados'})\n",
        "Imunizados"
      ],
      "execution_count": null,
      "outputs": [
        {
          "output_type": "execute_result",
          "data": {
            "text/html": [
              "<div>\n",
              "<style scoped>\n",
              "    .dataframe tbody tr th:only-of-type {\n",
              "        vertical-align: middle;\n",
              "    }\n",
              "\n",
              "    .dataframe tbody tr th {\n",
              "        vertical-align: top;\n",
              "    }\n",
              "\n",
              "    .dataframe thead th {\n",
              "        text-align: right;\n",
              "    }\n",
              "</style>\n",
              "<table border=\"1\" class=\"dataframe\">\n",
              "  <thead>\n",
              "    <tr style=\"text-align: right;\">\n",
              "      <th></th>\n",
              "      <th>país</th>\n",
              "      <th>imunizados</th>\n",
              "    </tr>\n",
              "  </thead>\n",
              "  <tbody>\n",
              "    <tr>\n",
              "      <th>0</th>\n",
              "      <td>United States</td>\n",
              "      <td>75236003.0</td>\n",
              "    </tr>\n",
              "    <tr>\n",
              "      <th>1</th>\n",
              "      <td>China</td>\n",
              "      <td>40520000.0</td>\n",
              "    </tr>\n",
              "    <tr>\n",
              "      <th>2</th>\n",
              "      <td>England</td>\n",
              "      <td>17641792.0</td>\n",
              "    </tr>\n",
              "    <tr>\n",
              "      <th>3</th>\n",
              "      <td>India</td>\n",
              "      <td>14301266.0</td>\n",
              "    </tr>\n",
              "    <tr>\n",
              "      <th>4</th>\n",
              "      <td>Turkey</td>\n",
              "      <td>8547875.0</td>\n",
              "    </tr>\n",
              "    <tr>\n",
              "      <th>...</th>\n",
              "      <td>...</td>\n",
              "      <td>...</td>\n",
              "    </tr>\n",
              "    <tr>\n",
              "      <th>111</th>\n",
              "      <td>Paraguay</td>\n",
              "      <td>1000.0</td>\n",
              "    </tr>\n",
              "    <tr>\n",
              "      <th>112</th>\n",
              "      <td>Trinidad and Tobago</td>\n",
              "      <td>440.0</td>\n",
              "    </tr>\n",
              "    <tr>\n",
              "      <th>113</th>\n",
              "      <td>Venezuela</td>\n",
              "      <td>157.0</td>\n",
              "    </tr>\n",
              "    <tr>\n",
              "      <th>114</th>\n",
              "      <td>Saint Helena</td>\n",
              "      <td>107.0</td>\n",
              "    </tr>\n",
              "    <tr>\n",
              "      <th>115</th>\n",
              "      <td>San Marino</td>\n",
              "      <td>35.0</td>\n",
              "    </tr>\n",
              "  </tbody>\n",
              "</table>\n",
              "<p>116 rows × 2 columns</p>\n",
              "</div>"
            ],
            "text/plain": [
              "                    país  imunizados\n",
              "0          United States  75236003.0\n",
              "1                  China  40520000.0\n",
              "2                England  17641792.0\n",
              "3                  India  14301266.0\n",
              "4                 Turkey   8547875.0\n",
              "..                   ...         ...\n",
              "111             Paraguay      1000.0\n",
              "112  Trinidad and Tobago       440.0\n",
              "113            Venezuela       157.0\n",
              "114         Saint Helena       107.0\n",
              "115           San Marino        35.0\n",
              "\n",
              "[116 rows x 2 columns]"
            ]
          },
          "metadata": {
            "tags": []
          },
          "execution_count": 150
        }
      ]
    },
    {
      "cell_type": "markdown",
      "metadata": {
        "id": "dhMfXQ3YWEtl"
      },
      "source": [
        "# **Criando novo Dataset**"
      ]
    },
    {
      "cell_type": "code",
      "metadata": {
        "colab": {
          "base_uri": "https://localhost:8080/",
          "height": 419
        },
        "id": "bj2mXEJ3WJ9F",
        "outputId": "a5cd4250-b9e5-4354-d2d4-7841e155c5f1"
      },
      "source": [
        "Dados_tratados = pd.merge(Imunizados , Media_pais , how='inner')\n",
        "Dados_tratados"
      ],
      "execution_count": null,
      "outputs": [
        {
          "output_type": "execute_result",
          "data": {
            "text/html": [
              "<div>\n",
              "<style scoped>\n",
              "    .dataframe tbody tr th:only-of-type {\n",
              "        vertical-align: middle;\n",
              "    }\n",
              "\n",
              "    .dataframe tbody tr th {\n",
              "        vertical-align: top;\n",
              "    }\n",
              "\n",
              "    .dataframe thead th {\n",
              "        text-align: right;\n",
              "    }\n",
              "</style>\n",
              "<table border=\"1\" class=\"dataframe\">\n",
              "  <thead>\n",
              "    <tr style=\"text-align: right;\">\n",
              "      <th></th>\n",
              "      <th>país</th>\n",
              "      <th>imunizados</th>\n",
              "      <th>media_vacinação</th>\n",
              "    </tr>\n",
              "  </thead>\n",
              "  <tbody>\n",
              "    <tr>\n",
              "      <th>0</th>\n",
              "      <td>United States</td>\n",
              "      <td>75236003.0</td>\n",
              "      <td>982394.571429</td>\n",
              "    </tr>\n",
              "    <tr>\n",
              "      <th>1</th>\n",
              "      <td>China</td>\n",
              "      <td>40520000.0</td>\n",
              "      <td>623616.000000</td>\n",
              "    </tr>\n",
              "    <tr>\n",
              "      <th>2</th>\n",
              "      <td>England</td>\n",
              "      <td>17641792.0</td>\n",
              "      <td>218455.144737</td>\n",
              "    </tr>\n",
              "    <tr>\n",
              "      <th>3</th>\n",
              "      <td>India</td>\n",
              "      <td>14301266.0</td>\n",
              "      <td>306434.454545</td>\n",
              "    </tr>\n",
              "    <tr>\n",
              "      <th>4</th>\n",
              "      <td>Turkey</td>\n",
              "      <td>8547875.0</td>\n",
              "      <td>187049.043478</td>\n",
              "    </tr>\n",
              "    <tr>\n",
              "      <th>...</th>\n",
              "      <td>...</td>\n",
              "      <td>...</td>\n",
              "      <td>...</td>\n",
              "    </tr>\n",
              "    <tr>\n",
              "      <th>111</th>\n",
              "      <td>Paraguay</td>\n",
              "      <td>1000.0</td>\n",
              "      <td>250.000000</td>\n",
              "    </tr>\n",
              "    <tr>\n",
              "      <th>112</th>\n",
              "      <td>Trinidad and Tobago</td>\n",
              "      <td>440.0</td>\n",
              "      <td>63.000000</td>\n",
              "    </tr>\n",
              "    <tr>\n",
              "      <th>113</th>\n",
              "      <td>Venezuela</td>\n",
              "      <td>157.0</td>\n",
              "      <td>31.000000</td>\n",
              "    </tr>\n",
              "    <tr>\n",
              "      <th>114</th>\n",
              "      <td>Saint Helena</td>\n",
              "      <td>107.0</td>\n",
              "      <td>NaN</td>\n",
              "    </tr>\n",
              "    <tr>\n",
              "      <th>115</th>\n",
              "      <td>San Marino</td>\n",
              "      <td>35.0</td>\n",
              "      <td>NaN</td>\n",
              "    </tr>\n",
              "  </tbody>\n",
              "</table>\n",
              "<p>116 rows × 3 columns</p>\n",
              "</div>"
            ],
            "text/plain": [
              "                    país  imunizados  media_vacinação\n",
              "0          United States  75236003.0    982394.571429\n",
              "1                  China  40520000.0    623616.000000\n",
              "2                England  17641792.0    218455.144737\n",
              "3                  India  14301266.0    306434.454545\n",
              "4                 Turkey   8547875.0    187049.043478\n",
              "..                   ...         ...              ...\n",
              "111             Paraguay      1000.0       250.000000\n",
              "112  Trinidad and Tobago       440.0        63.000000\n",
              "113            Venezuela       157.0        31.000000\n",
              "114         Saint Helena       107.0              NaN\n",
              "115           San Marino        35.0              NaN\n",
              "\n",
              "[116 rows x 3 columns]"
            ]
          },
          "metadata": {
            "tags": []
          },
          "execution_count": 151
        }
      ]
    },
    {
      "cell_type": "markdown",
      "metadata": {
        "id": "HhurGtVXWuGR"
      },
      "source": [
        "# **Exportando Base de Dados**"
      ]
    },
    {
      "cell_type": "code",
      "metadata": {
        "id": "ltDLQxAnW0PP"
      },
      "source": [
        "Dados_tratados.to_csv ('Estatistica Pais.csv', index=True , sep=';')"
      ],
      "execution_count": null,
      "outputs": []
    }
  ]
}